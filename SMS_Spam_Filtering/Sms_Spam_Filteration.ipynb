{
  "cells": [
    {
      "cell_type": "markdown",
      "metadata": {
        "id": "s_itla3cT3b1"
      },
      "source": [
        "#                                             SmsSpam_Filtering"
      ]
    },
    {
      "cell_type": "code",
      "execution_count": null,
      "metadata": {
        "id": "VGShLRAhT3b6"
      },
      "outputs": [],
      "source": [
        "#import Packages\n",
        "import pandas as pd\n",
        "import numpy as np\n"
      ]
    },
    {
      "cell_type": "code",
      "source": [
        "# Uploading file in Colab\n",
        "from google.colab import drive\n",
        "drive.mount('/content/drive')\n",
        "%cd \"/content/drive/MyDrive/Personal_Projects/SMS_spam\""
      ],
      "metadata": {
        "colab": {
          "base_uri": "https://localhost:8080/"
        },
        "id": "cbVD7Uj1X8wT",
        "outputId": "538fc8ab-aca3-4ec1-83f8-fedeb7d1568b"
      },
      "execution_count": null,
      "outputs": [
        {
          "output_type": "stream",
          "name": "stdout",
          "text": [
            "Drive already mounted at /content/drive; to attempt to forcibly remount, call drive.mount(\"/content/drive\", force_remount=True).\n",
            "/content/drive/MyDrive/Personal_Projects/SMS_spam\n"
          ]
        }
      ]
    },
    {
      "cell_type": "code",
      "execution_count": null,
      "metadata": {
        "id": "7WHIWP5IT3b8"
      },
      "outputs": [],
      "source": [
        "#Load data\n",
        "sms = pd.read_csv(\"SMSSpam\", sep=\"\\t\", names=[\"Status\",\"Message\"])"
      ]
    },
    {
      "cell_type": "code",
      "execution_count": null,
      "metadata": {
        "id": "F7w4bK_BT3b9",
        "outputId": "b1ddae70-1835-4fcf-ef21-bae4f3c62a01",
        "colab": {
          "base_uri": "https://localhost:8080/"
        }
      },
      "outputs": [
        {
          "output_type": "execute_result",
          "data": {
            "text/plain": [
              "(5572, 2)"
            ]
          },
          "metadata": {},
          "execution_count": 6
        }
      ],
      "source": [
        "#shape of data\n",
        "sms.shape"
      ]
    },
    {
      "cell_type": "code",
      "execution_count": null,
      "metadata": {
        "id": "Zs-Kqu_bT3b_",
        "outputId": "592a609e-acd4-449e-902e-2245b7404f64",
        "colab": {
          "base_uri": "https://localhost:8080/"
        }
      },
      "outputs": [
        {
          "output_type": "execute_result",
          "data": {
            "text/plain": [
              "Index(['Status', 'Message'], dtype='object')"
            ]
          },
          "metadata": {},
          "execution_count": 7
        }
      ],
      "source": [
        "#No. of columns\n",
        "sms.columns"
      ]
    },
    {
      "cell_type": "code",
      "execution_count": null,
      "metadata": {
        "id": "P-gih-hsT3cA",
        "outputId": "538b63df-6cc1-453a-bde6-df85c15bd880",
        "colab": {
          "base_uri": "https://localhost:8080/",
          "height": 206
        }
      },
      "outputs": [
        {
          "output_type": "execute_result",
          "data": {
            "text/plain": [
              "  Status                                            Message\n",
              "0    ham  Go until jurong point, crazy.. Available only ...\n",
              "1    ham                      Ok lar... Joking wif u oni...\n",
              "2   spam  Free entry in 2 a wkly comp to win FA Cup fina...\n",
              "3    ham  U dun say so early hor... U c already then say...\n",
              "4    ham  Nah I don't think he goes to usf, he lives aro..."
            ],
            "text/html": [
              "\n",
              "  <div id=\"df-4bcfedfb-1dfb-4fb0-a75d-cd05ada69c70\">\n",
              "    <div class=\"colab-df-container\">\n",
              "      <div>\n",
              "<style scoped>\n",
              "    .dataframe tbody tr th:only-of-type {\n",
              "        vertical-align: middle;\n",
              "    }\n",
              "\n",
              "    .dataframe tbody tr th {\n",
              "        vertical-align: top;\n",
              "    }\n",
              "\n",
              "    .dataframe thead th {\n",
              "        text-align: right;\n",
              "    }\n",
              "</style>\n",
              "<table border=\"1\" class=\"dataframe\">\n",
              "  <thead>\n",
              "    <tr style=\"text-align: right;\">\n",
              "      <th></th>\n",
              "      <th>Status</th>\n",
              "      <th>Message</th>\n",
              "    </tr>\n",
              "  </thead>\n",
              "  <tbody>\n",
              "    <tr>\n",
              "      <th>0</th>\n",
              "      <td>ham</td>\n",
              "      <td>Go until jurong point, crazy.. Available only ...</td>\n",
              "    </tr>\n",
              "    <tr>\n",
              "      <th>1</th>\n",
              "      <td>ham</td>\n",
              "      <td>Ok lar... Joking wif u oni...</td>\n",
              "    </tr>\n",
              "    <tr>\n",
              "      <th>2</th>\n",
              "      <td>spam</td>\n",
              "      <td>Free entry in 2 a wkly comp to win FA Cup fina...</td>\n",
              "    </tr>\n",
              "    <tr>\n",
              "      <th>3</th>\n",
              "      <td>ham</td>\n",
              "      <td>U dun say so early hor... U c already then say...</td>\n",
              "    </tr>\n",
              "    <tr>\n",
              "      <th>4</th>\n",
              "      <td>ham</td>\n",
              "      <td>Nah I don't think he goes to usf, he lives aro...</td>\n",
              "    </tr>\n",
              "  </tbody>\n",
              "</table>\n",
              "</div>\n",
              "      <button class=\"colab-df-convert\" onclick=\"convertToInteractive('df-4bcfedfb-1dfb-4fb0-a75d-cd05ada69c70')\"\n",
              "              title=\"Convert this dataframe to an interactive table.\"\n",
              "              style=\"display:none;\">\n",
              "        \n",
              "  <svg xmlns=\"http://www.w3.org/2000/svg\" height=\"24px\"viewBox=\"0 0 24 24\"\n",
              "       width=\"24px\">\n",
              "    <path d=\"M0 0h24v24H0V0z\" fill=\"none\"/>\n",
              "    <path d=\"M18.56 5.44l.94 2.06.94-2.06 2.06-.94-2.06-.94-.94-2.06-.94 2.06-2.06.94zm-11 1L8.5 8.5l.94-2.06 2.06-.94-2.06-.94L8.5 2.5l-.94 2.06-2.06.94zm10 10l.94 2.06.94-2.06 2.06-.94-2.06-.94-.94-2.06-.94 2.06-2.06.94z\"/><path d=\"M17.41 7.96l-1.37-1.37c-.4-.4-.92-.59-1.43-.59-.52 0-1.04.2-1.43.59L10.3 9.45l-7.72 7.72c-.78.78-.78 2.05 0 2.83L4 21.41c.39.39.9.59 1.41.59.51 0 1.02-.2 1.41-.59l7.78-7.78 2.81-2.81c.8-.78.8-2.07 0-2.86zM5.41 20L4 18.59l7.72-7.72 1.47 1.35L5.41 20z\"/>\n",
              "  </svg>\n",
              "      </button>\n",
              "      \n",
              "  <style>\n",
              "    .colab-df-container {\n",
              "      display:flex;\n",
              "      flex-wrap:wrap;\n",
              "      gap: 12px;\n",
              "    }\n",
              "\n",
              "    .colab-df-convert {\n",
              "      background-color: #E8F0FE;\n",
              "      border: none;\n",
              "      border-radius: 50%;\n",
              "      cursor: pointer;\n",
              "      display: none;\n",
              "      fill: #1967D2;\n",
              "      height: 32px;\n",
              "      padding: 0 0 0 0;\n",
              "      width: 32px;\n",
              "    }\n",
              "\n",
              "    .colab-df-convert:hover {\n",
              "      background-color: #E2EBFA;\n",
              "      box-shadow: 0px 1px 2px rgba(60, 64, 67, 0.3), 0px 1px 3px 1px rgba(60, 64, 67, 0.15);\n",
              "      fill: #174EA6;\n",
              "    }\n",
              "\n",
              "    [theme=dark] .colab-df-convert {\n",
              "      background-color: #3B4455;\n",
              "      fill: #D2E3FC;\n",
              "    }\n",
              "\n",
              "    [theme=dark] .colab-df-convert:hover {\n",
              "      background-color: #434B5C;\n",
              "      box-shadow: 0px 1px 3px 1px rgba(0, 0, 0, 0.15);\n",
              "      filter: drop-shadow(0px 1px 2px rgba(0, 0, 0, 0.3));\n",
              "      fill: #FFFFFF;\n",
              "    }\n",
              "  </style>\n",
              "\n",
              "      <script>\n",
              "        const buttonEl =\n",
              "          document.querySelector('#df-4bcfedfb-1dfb-4fb0-a75d-cd05ada69c70 button.colab-df-convert');\n",
              "        buttonEl.style.display =\n",
              "          google.colab.kernel.accessAllowed ? 'block' : 'none';\n",
              "\n",
              "        async function convertToInteractive(key) {\n",
              "          const element = document.querySelector('#df-4bcfedfb-1dfb-4fb0-a75d-cd05ada69c70');\n",
              "          const dataTable =\n",
              "            await google.colab.kernel.invokeFunction('convertToInteractive',\n",
              "                                                     [key], {});\n",
              "          if (!dataTable) return;\n",
              "\n",
              "          const docLinkHtml = 'Like what you see? Visit the ' +\n",
              "            '<a target=\"_blank\" href=https://colab.research.google.com/notebooks/data_table.ipynb>data table notebook</a>'\n",
              "            + ' to learn more about interactive tables.';\n",
              "          element.innerHTML = '';\n",
              "          dataTable['output_type'] = 'display_data';\n",
              "          await google.colab.output.renderOutput(dataTable, element);\n",
              "          const docLink = document.createElement('div');\n",
              "          docLink.innerHTML = docLinkHtml;\n",
              "          element.appendChild(docLink);\n",
              "        }\n",
              "      </script>\n",
              "    </div>\n",
              "  </div>\n",
              "  "
            ]
          },
          "metadata": {},
          "execution_count": 8
        }
      ],
      "source": [
        "#print top 5 rows\n",
        "sms.head()"
      ]
    },
    {
      "cell_type": "code",
      "execution_count": null,
      "metadata": {
        "id": "ZYB6VmVgT3cB",
        "outputId": "a9230544-7065-4010-d291-7ae0b3a20507",
        "colab": {
          "base_uri": "https://localhost:8080/"
        }
      },
      "outputs": [
        {
          "output_type": "execute_result",
          "data": {
            "text/plain": [
              "747"
            ]
          },
          "metadata": {},
          "execution_count": 9
        }
      ],
      "source": [
        "#No. of spam\n",
        "len(sms[sms.Status==\"spam\"])"
      ]
    },
    {
      "cell_type": "code",
      "execution_count": null,
      "metadata": {
        "id": "BzZ0Bn3kT3cB",
        "outputId": "458d379e-f54d-4bae-9c82-adda8db962dd",
        "colab": {
          "base_uri": "https://localhost:8080/"
        }
      },
      "outputs": [
        {
          "output_type": "execute_result",
          "data": {
            "text/plain": [
              "4825"
            ]
          },
          "metadata": {},
          "execution_count": 10
        }
      ],
      "source": [
        "#No. of ham\n",
        "len(sms[sms.Status==\"ham\"])"
      ]
    },
    {
      "cell_type": "code",
      "execution_count": null,
      "metadata": {
        "id": "FfujgsafT3cC"
      },
      "outputs": [],
      "source": [
        "#Change ham to 1\n",
        "#change spam to 0\n",
        "sms.loc[sms[\"Status\"]==\"ham\",\"Status\"]=1\n",
        "sms.loc[sms[\"Status\"]==\"spam\",\"Status\"]=0"
      ]
    },
    {
      "cell_type": "code",
      "execution_count": null,
      "metadata": {
        "id": "1WRz__oST3cD",
        "outputId": "38ec7fef-568d-4317-fae4-25c92c5b0790",
        "colab": {
          "base_uri": "https://localhost:8080/",
          "height": 206
        }
      },
      "outputs": [
        {
          "output_type": "execute_result",
          "data": {
            "text/plain": [
              "  Status                                            Message\n",
              "0      1  Go until jurong point, crazy.. Available only ...\n",
              "1      1                      Ok lar... Joking wif u oni...\n",
              "2      0  Free entry in 2 a wkly comp to win FA Cup fina...\n",
              "3      1  U dun say so early hor... U c already then say...\n",
              "4      1  Nah I don't think he goes to usf, he lives aro..."
            ],
            "text/html": [
              "\n",
              "  <div id=\"df-88d60df3-da00-4683-bf14-b97e4965ecec\">\n",
              "    <div class=\"colab-df-container\">\n",
              "      <div>\n",
              "<style scoped>\n",
              "    .dataframe tbody tr th:only-of-type {\n",
              "        vertical-align: middle;\n",
              "    }\n",
              "\n",
              "    .dataframe tbody tr th {\n",
              "        vertical-align: top;\n",
              "    }\n",
              "\n",
              "    .dataframe thead th {\n",
              "        text-align: right;\n",
              "    }\n",
              "</style>\n",
              "<table border=\"1\" class=\"dataframe\">\n",
              "  <thead>\n",
              "    <tr style=\"text-align: right;\">\n",
              "      <th></th>\n",
              "      <th>Status</th>\n",
              "      <th>Message</th>\n",
              "    </tr>\n",
              "  </thead>\n",
              "  <tbody>\n",
              "    <tr>\n",
              "      <th>0</th>\n",
              "      <td>1</td>\n",
              "      <td>Go until jurong point, crazy.. Available only ...</td>\n",
              "    </tr>\n",
              "    <tr>\n",
              "      <th>1</th>\n",
              "      <td>1</td>\n",
              "      <td>Ok lar... Joking wif u oni...</td>\n",
              "    </tr>\n",
              "    <tr>\n",
              "      <th>2</th>\n",
              "      <td>0</td>\n",
              "      <td>Free entry in 2 a wkly comp to win FA Cup fina...</td>\n",
              "    </tr>\n",
              "    <tr>\n",
              "      <th>3</th>\n",
              "      <td>1</td>\n",
              "      <td>U dun say so early hor... U c already then say...</td>\n",
              "    </tr>\n",
              "    <tr>\n",
              "      <th>4</th>\n",
              "      <td>1</td>\n",
              "      <td>Nah I don't think he goes to usf, he lives aro...</td>\n",
              "    </tr>\n",
              "  </tbody>\n",
              "</table>\n",
              "</div>\n",
              "      <button class=\"colab-df-convert\" onclick=\"convertToInteractive('df-88d60df3-da00-4683-bf14-b97e4965ecec')\"\n",
              "              title=\"Convert this dataframe to an interactive table.\"\n",
              "              style=\"display:none;\">\n",
              "        \n",
              "  <svg xmlns=\"http://www.w3.org/2000/svg\" height=\"24px\"viewBox=\"0 0 24 24\"\n",
              "       width=\"24px\">\n",
              "    <path d=\"M0 0h24v24H0V0z\" fill=\"none\"/>\n",
              "    <path d=\"M18.56 5.44l.94 2.06.94-2.06 2.06-.94-2.06-.94-.94-2.06-.94 2.06-2.06.94zm-11 1L8.5 8.5l.94-2.06 2.06-.94-2.06-.94L8.5 2.5l-.94 2.06-2.06.94zm10 10l.94 2.06.94-2.06 2.06-.94-2.06-.94-.94-2.06-.94 2.06-2.06.94z\"/><path d=\"M17.41 7.96l-1.37-1.37c-.4-.4-.92-.59-1.43-.59-.52 0-1.04.2-1.43.59L10.3 9.45l-7.72 7.72c-.78.78-.78 2.05 0 2.83L4 21.41c.39.39.9.59 1.41.59.51 0 1.02-.2 1.41-.59l7.78-7.78 2.81-2.81c.8-.78.8-2.07 0-2.86zM5.41 20L4 18.59l7.72-7.72 1.47 1.35L5.41 20z\"/>\n",
              "  </svg>\n",
              "      </button>\n",
              "      \n",
              "  <style>\n",
              "    .colab-df-container {\n",
              "      display:flex;\n",
              "      flex-wrap:wrap;\n",
              "      gap: 12px;\n",
              "    }\n",
              "\n",
              "    .colab-df-convert {\n",
              "      background-color: #E8F0FE;\n",
              "      border: none;\n",
              "      border-radius: 50%;\n",
              "      cursor: pointer;\n",
              "      display: none;\n",
              "      fill: #1967D2;\n",
              "      height: 32px;\n",
              "      padding: 0 0 0 0;\n",
              "      width: 32px;\n",
              "    }\n",
              "\n",
              "    .colab-df-convert:hover {\n",
              "      background-color: #E2EBFA;\n",
              "      box-shadow: 0px 1px 2px rgba(60, 64, 67, 0.3), 0px 1px 3px 1px rgba(60, 64, 67, 0.15);\n",
              "      fill: #174EA6;\n",
              "    }\n",
              "\n",
              "    [theme=dark] .colab-df-convert {\n",
              "      background-color: #3B4455;\n",
              "      fill: #D2E3FC;\n",
              "    }\n",
              "\n",
              "    [theme=dark] .colab-df-convert:hover {\n",
              "      background-color: #434B5C;\n",
              "      box-shadow: 0px 1px 3px 1px rgba(0, 0, 0, 0.15);\n",
              "      filter: drop-shadow(0px 1px 2px rgba(0, 0, 0, 0.3));\n",
              "      fill: #FFFFFF;\n",
              "    }\n",
              "  </style>\n",
              "\n",
              "      <script>\n",
              "        const buttonEl =\n",
              "          document.querySelector('#df-88d60df3-da00-4683-bf14-b97e4965ecec button.colab-df-convert');\n",
              "        buttonEl.style.display =\n",
              "          google.colab.kernel.accessAllowed ? 'block' : 'none';\n",
              "\n",
              "        async function convertToInteractive(key) {\n",
              "          const element = document.querySelector('#df-88d60df3-da00-4683-bf14-b97e4965ecec');\n",
              "          const dataTable =\n",
              "            await google.colab.kernel.invokeFunction('convertToInteractive',\n",
              "                                                     [key], {});\n",
              "          if (!dataTable) return;\n",
              "\n",
              "          const docLinkHtml = 'Like what you see? Visit the ' +\n",
              "            '<a target=\"_blank\" href=https://colab.research.google.com/notebooks/data_table.ipynb>data table notebook</a>'\n",
              "            + ' to learn more about interactive tables.';\n",
              "          element.innerHTML = '';\n",
              "          dataTable['output_type'] = 'display_data';\n",
              "          await google.colab.output.renderOutput(dataTable, element);\n",
              "          const docLink = document.createElement('div');\n",
              "          docLink.innerHTML = docLinkHtml;\n",
              "          element.appendChild(docLink);\n",
              "        }\n",
              "      </script>\n",
              "    </div>\n",
              "  </div>\n",
              "  "
            ]
          },
          "metadata": {},
          "execution_count": 12
        }
      ],
      "source": [
        "#Print top 5 rows\n",
        "sms.head()"
      ]
    },
    {
      "cell_type": "code",
      "execution_count": null,
      "metadata": {
        "id": "nRRVcwEfT3cE"
      },
      "outputs": [],
      "source": [
        "#Seperate Messages and status\n",
        "sms_x = sms[\"Message\"]\n",
        "sms_y = sms[\"Status\"]"
      ]
    },
    {
      "cell_type": "code",
      "execution_count": null,
      "metadata": {
        "id": "ko2LQ-xwT3cE",
        "colab": {
          "base_uri": "https://localhost:8080/"
        },
        "outputId": "ce88ad80-0781-4d64-de3b-44b052aa4d1c"
      },
      "outputs": [
        {
          "output_type": "stream",
          "name": "stderr",
          "text": [
            "[nltk_data] Downloading package stopwords to /root/nltk_data...\n",
            "[nltk_data]   Package stopwords is already up-to-date!\n"
          ]
        },
        {
          "output_type": "execute_result",
          "data": {
            "text/plain": [
              "True"
            ]
          },
          "metadata": {},
          "execution_count": 25
        }
      ],
      "source": [
        "#import packages \n",
        "import re #for regular espression\n",
        "import nltk\n",
        "from nltk.stem.porter import PorterStemmer #for stemming\n",
        "nltk.download('stopwords')  #for stopword remove"
      ]
    },
    {
      "cell_type": "code",
      "execution_count": null,
      "metadata": {
        "id": "pOtKhrzYT3cF"
      },
      "outputs": [],
      "source": [
        "#data preprocessing part\n",
        "corpus = []\n",
        "for i in range(0, 5572):\n",
        "    message = re.sub('[^a-zA-Z]', ' ', sms['Message'][i]) #substitute non alphabets with space\n",
        "    message = message.lower()  #convert into lowercase\n",
        "    message = message.split()  #split message\n",
        "    ps = PorterStemmer()       #for stemming\n",
        "    message = [ps.stem(word) for word in message if not word in set(stopwords.words('english'))]\n",
        "    message = ' '.join(message) #join the individual word\n",
        "    corpus.append(message)      "
      ]
    },
    {
      "cell_type": "code",
      "execution_count": null,
      "metadata": {
        "id": "Ouh-eF1ET3cF",
        "outputId": "2ff00212-a17e-4150-b785-9ac8d3f03ac8",
        "colab": {
          "base_uri": "https://localhost:8080/"
        }
      },
      "outputs": [
        {
          "output_type": "execute_result",
          "data": {
            "text/plain": [
              "5572"
            ]
          },
          "metadata": {},
          "execution_count": 27
        }
      ],
      "source": [
        "len(corpus)"
      ]
    },
    {
      "cell_type": "code",
      "execution_count": null,
      "metadata": {
        "id": "Mm-izAl9T3cG",
        "outputId": "f2a0d771-eeea-4b32-da18-bfcfb1351d47",
        "colab": {
          "base_uri": "https://localhost:8080/"
        }
      },
      "outputs": [
        {
          "output_type": "stream",
          "name": "stdout",
          "text": [
            "go jurong point crazi avail bugi n great world la e buffet cine got amor wat\n",
            "ok lar joke wif u oni\n",
            "free entri wkli comp win fa cup final tkt st may text fa receiv entri question std txt rate c appli\n",
            "u dun say earli hor u c alreadi say\n",
            "nah think goe usf live around though\n"
          ]
        }
      ],
      "source": [
        "#top 5 row of message\n",
        "for i in range(5):\n",
        "    print(corpus[i])"
      ]
    },
    {
      "cell_type": "markdown",
      "metadata": {
        "id": "tma9l2DOT3cG"
      },
      "source": [
        "# Feature Extraction with CountVectorizer"
      ]
    },
    {
      "cell_type": "code",
      "execution_count": null,
      "metadata": {
        "id": "s80awM9GT3cH"
      },
      "outputs": [],
      "source": [
        "#convert into vector\n",
        "from sklearn.feature_extraction.text import CountVectorizer\n",
        "cv = CountVectorizer()\n",
        "X = cv.fit_transform(corpus).toarray()\n",
        "y = sms['Status']"
      ]
    },
    {
      "cell_type": "code",
      "execution_count": null,
      "metadata": {
        "id": "j6VLldm9T3cH",
        "outputId": "07e71334-cbb4-4efe-b530-87d66dcfd960",
        "colab": {
          "base_uri": "https://localhost:8080/"
        }
      },
      "outputs": [
        {
          "output_type": "execute_result",
          "data": {
            "text/plain": [
              "(5572, 6296)"
            ]
          },
          "metadata": {},
          "execution_count": 33
        }
      ],
      "source": [
        "X.shape"
      ]
    },
    {
      "cell_type": "code",
      "execution_count": null,
      "metadata": {
        "id": "wd7VDa9rT3cI",
        "outputId": "54080749-4cf4-4a33-81fd-2b51edc58519",
        "colab": {
          "base_uri": "https://localhost:8080/"
        }
      },
      "outputs": [
        {
          "output_type": "execute_result",
          "data": {
            "text/plain": [
              "array([[0],\n",
              "       [0],\n",
              "       [0],\n",
              "       ...,\n",
              "       [0],\n",
              "       [0],\n",
              "       [0]])"
            ]
          },
          "metadata": {},
          "execution_count": 34
        }
      ],
      "source": [
        "X[0].reshape(-1,1)"
      ]
    },
    {
      "cell_type": "code",
      "execution_count": null,
      "metadata": {
        "id": "LnohW6yrT3cI",
        "outputId": "1fa0584c-0f1a-47ac-c5ff-2ccee6e3a977",
        "colab": {
          "base_uri": "https://localhost:8080/"
        }
      },
      "outputs": [
        {
          "output_type": "execute_result",
          "data": {
            "text/plain": [
              "[array([], dtype='<U34'),\n",
              " array([], dtype='<U34'),\n",
              " array([], dtype='<U34'),\n",
              " array([], dtype='<U34'),\n",
              " array([], dtype='<U34'),\n",
              " array([], dtype='<U34'),\n",
              " array([], dtype='<U34'),\n",
              " array([], dtype='<U34'),\n",
              " array([], dtype='<U34'),\n",
              " array([], dtype='<U34'),\n",
              " array([], dtype='<U34'),\n",
              " array([], dtype='<U34'),\n",
              " array([], dtype='<U34'),\n",
              " array([], dtype='<U34'),\n",
              " array([], dtype='<U34'),\n",
              " array([], dtype='<U34'),\n",
              " array([], dtype='<U34'),\n",
              " array([], dtype='<U34'),\n",
              " array([], dtype='<U34'),\n",
              " array([], dtype='<U34'),\n",
              " array([], dtype='<U34'),\n",
              " array([], dtype='<U34'),\n",
              " array([], dtype='<U34'),\n",
              " array([], dtype='<U34'),\n",
              " array([], dtype='<U34'),\n",
              " array([], dtype='<U34'),\n",
              " array([], dtype='<U34'),\n",
              " array([], dtype='<U34'),\n",
              " array([], dtype='<U34'),\n",
              " array([], dtype='<U34'),\n",
              " array([], dtype='<U34'),\n",
              " array([], dtype='<U34'),\n",
              " array([], dtype='<U34'),\n",
              " array([], dtype='<U34'),\n",
              " array([], dtype='<U34'),\n",
              " array([], dtype='<U34'),\n",
              " array([], dtype='<U34'),\n",
              " array([], dtype='<U34'),\n",
              " array([], dtype='<U34'),\n",
              " array([], dtype='<U34'),\n",
              " array([], dtype='<U34'),\n",
              " array([], dtype='<U34'),\n",
              " array([], dtype='<U34'),\n",
              " array([], dtype='<U34'),\n",
              " array([], dtype='<U34'),\n",
              " array([], dtype='<U34'),\n",
              " array([], dtype='<U34'),\n",
              " array([], dtype='<U34'),\n",
              " array([], dtype='<U34'),\n",
              " array([], dtype='<U34'),\n",
              " array([], dtype='<U34'),\n",
              " array([], dtype='<U34'),\n",
              " array([], dtype='<U34'),\n",
              " array([], dtype='<U34'),\n",
              " array([], dtype='<U34'),\n",
              " array([], dtype='<U34'),\n",
              " array([], dtype='<U34'),\n",
              " array([], dtype='<U34'),\n",
              " array([], dtype='<U34'),\n",
              " array([], dtype='<U34'),\n",
              " array([], dtype='<U34'),\n",
              " array([], dtype='<U34'),\n",
              " array([], dtype='<U34'),\n",
              " array([], dtype='<U34'),\n",
              " array([], dtype='<U34'),\n",
              " array([], dtype='<U34'),\n",
              " array([], dtype='<U34'),\n",
              " array([], dtype='<U34'),\n",
              " array([], dtype='<U34'),\n",
              " array([], dtype='<U34'),\n",
              " array([], dtype='<U34'),\n",
              " array([], dtype='<U34'),\n",
              " array([], dtype='<U34'),\n",
              " array([], dtype='<U34'),\n",
              " array([], dtype='<U34'),\n",
              " array([], dtype='<U34'),\n",
              " array([], dtype='<U34'),\n",
              " array([], dtype='<U34'),\n",
              " array([], dtype='<U34'),\n",
              " array([], dtype='<U34'),\n",
              " array([], dtype='<U34'),\n",
              " array([], dtype='<U34'),\n",
              " array([], dtype='<U34'),\n",
              " array([], dtype='<U34'),\n",
              " array([], dtype='<U34'),\n",
              " array([], dtype='<U34'),\n",
              " array([], dtype='<U34'),\n",
              " array([], dtype='<U34'),\n",
              " array([], dtype='<U34'),\n",
              " array([], dtype='<U34'),\n",
              " array([], dtype='<U34'),\n",
              " array([], dtype='<U34'),\n",
              " array([], dtype='<U34'),\n",
              " array([], dtype='<U34'),\n",
              " array([], dtype='<U34'),\n",
              " array([], dtype='<U34'),\n",
              " array([], dtype='<U34'),\n",
              " array([], dtype='<U34'),\n",
              " array([], dtype='<U34'),\n",
              " array([], dtype='<U34'),\n",
              " array([], dtype='<U34'),\n",
              " array([], dtype='<U34'),\n",
              " array([], dtype='<U34'),\n",
              " array([], dtype='<U34'),\n",
              " array([], dtype='<U34'),\n",
              " array([], dtype='<U34'),\n",
              " array([], dtype='<U34'),\n",
              " array([], dtype='<U34'),\n",
              " array([], dtype='<U34'),\n",
              " array([], dtype='<U34'),\n",
              " array([], dtype='<U34'),\n",
              " array([], dtype='<U34'),\n",
              " array([], dtype='<U34'),\n",
              " array([], dtype='<U34'),\n",
              " array([], dtype='<U34'),\n",
              " array([], dtype='<U34'),\n",
              " array([], dtype='<U34'),\n",
              " array([], dtype='<U34'),\n",
              " array([], dtype='<U34'),\n",
              " array([], dtype='<U34'),\n",
              " array([], dtype='<U34'),\n",
              " array([], dtype='<U34'),\n",
              " array([], dtype='<U34'),\n",
              " array([], dtype='<U34'),\n",
              " array([], dtype='<U34'),\n",
              " array([], dtype='<U34'),\n",
              " array([], dtype='<U34'),\n",
              " array([], dtype='<U34'),\n",
              " array([], dtype='<U34'),\n",
              " array([], dtype='<U34'),\n",
              " array([], dtype='<U34'),\n",
              " array([], dtype='<U34'),\n",
              " array([], dtype='<U34'),\n",
              " array([], dtype='<U34'),\n",
              " array([], dtype='<U34'),\n",
              " array([], dtype='<U34'),\n",
              " array([], dtype='<U34'),\n",
              " array([], dtype='<U34'),\n",
              " array([], dtype='<U34'),\n",
              " array([], dtype='<U34'),\n",
              " array([], dtype='<U34'),\n",
              " array([], dtype='<U34'),\n",
              " array([], dtype='<U34'),\n",
              " array([], dtype='<U34'),\n",
              " array([], dtype='<U34'),\n",
              " array([], dtype='<U34'),\n",
              " array([], dtype='<U34'),\n",
              " array([], dtype='<U34'),\n",
              " array([], dtype='<U34'),\n",
              " array([], dtype='<U34'),\n",
              " array([], dtype='<U34'),\n",
              " array([], dtype='<U34'),\n",
              " array([], dtype='<U34'),\n",
              " array([], dtype='<U34'),\n",
              " array([], dtype='<U34'),\n",
              " array([], dtype='<U34'),\n",
              " array([], dtype='<U34'),\n",
              " array([], dtype='<U34'),\n",
              " array([], dtype='<U34'),\n",
              " array([], dtype='<U34'),\n",
              " array([], dtype='<U34'),\n",
              " array([], dtype='<U34'),\n",
              " array([], dtype='<U34'),\n",
              " array([], dtype='<U34'),\n",
              " array([], dtype='<U34'),\n",
              " array([], dtype='<U34'),\n",
              " array([], dtype='<U34'),\n",
              " array([], dtype='<U34'),\n",
              " array([], dtype='<U34'),\n",
              " array([], dtype='<U34'),\n",
              " array([], dtype='<U34'),\n",
              " array([], dtype='<U34'),\n",
              " array([], dtype='<U34'),\n",
              " array([], dtype='<U34'),\n",
              " array([], dtype='<U34'),\n",
              " array([], dtype='<U34'),\n",
              " array([], dtype='<U34'),\n",
              " array([], dtype='<U34'),\n",
              " array([], dtype='<U34'),\n",
              " array([], dtype='<U34'),\n",
              " array([], dtype='<U34'),\n",
              " array([], dtype='<U34'),\n",
              " array([], dtype='<U34'),\n",
              " array([], dtype='<U34'),\n",
              " array([], dtype='<U34'),\n",
              " array([], dtype='<U34'),\n",
              " array([], dtype='<U34'),\n",
              " array([], dtype='<U34'),\n",
              " array([], dtype='<U34'),\n",
              " array([], dtype='<U34'),\n",
              " array(['aa'], dtype='<U34'),\n",
              " array([], dtype='<U34'),\n",
              " array([], dtype='<U34'),\n",
              " array([], dtype='<U34'),\n",
              " array([], dtype='<U34'),\n",
              " array([], dtype='<U34'),\n",
              " array([], dtype='<U34'),\n",
              " array([], dtype='<U34'),\n",
              " array([], dtype='<U34'),\n",
              " array([], dtype='<U34'),\n",
              " array([], dtype='<U34'),\n",
              " array([], dtype='<U34'),\n",
              " array([], dtype='<U34'),\n",
              " array([], dtype='<U34'),\n",
              " array([], dtype='<U34'),\n",
              " array([], dtype='<U34'),\n",
              " array([], dtype='<U34'),\n",
              " array([], dtype='<U34'),\n",
              " array([], dtype='<U34'),\n",
              " array([], dtype='<U34'),\n",
              " array([], dtype='<U34'),\n",
              " array([], dtype='<U34'),\n",
              " array([], dtype='<U34'),\n",
              " array([], dtype='<U34'),\n",
              " array([], dtype='<U34'),\n",
              " array([], dtype='<U34'),\n",
              " array([], dtype='<U34'),\n",
              " array([], dtype='<U34'),\n",
              " array([], dtype='<U34'),\n",
              " array([], dtype='<U34'),\n",
              " array([], dtype='<U34'),\n",
              " array([], dtype='<U34'),\n",
              " array([], dtype='<U34'),\n",
              " array([], dtype='<U34'),\n",
              " array([], dtype='<U34'),\n",
              " array([], dtype='<U34'),\n",
              " array([], dtype='<U34'),\n",
              " array([], dtype='<U34'),\n",
              " array([], dtype='<U34'),\n",
              " array([], dtype='<U34'),\n",
              " array([], dtype='<U34'),\n",
              " array([], dtype='<U34'),\n",
              " array([], dtype='<U34'),\n",
              " array([], dtype='<U34'),\n",
              " array([], dtype='<U34'),\n",
              " array([], dtype='<U34'),\n",
              " array([], dtype='<U34'),\n",
              " array([], dtype='<U34'),\n",
              " array([], dtype='<U34'),\n",
              " array([], dtype='<U34'),\n",
              " array([], dtype='<U34'),\n",
              " array([], dtype='<U34'),\n",
              " array([], dtype='<U34'),\n",
              " array([], dtype='<U34'),\n",
              " array([], dtype='<U34'),\n",
              " array([], dtype='<U34'),\n",
              " array([], dtype='<U34'),\n",
              " array([], dtype='<U34'),\n",
              " array([], dtype='<U34'),\n",
              " array([], dtype='<U34'),\n",
              " array([], dtype='<U34'),\n",
              " array([], dtype='<U34'),\n",
              " array([], dtype='<U34'),\n",
              " array([], dtype='<U34'),\n",
              " array([], dtype='<U34'),\n",
              " array([], dtype='<U34'),\n",
              " array([], dtype='<U34'),\n",
              " array([], dtype='<U34'),\n",
              " array([], dtype='<U34'),\n",
              " array([], dtype='<U34'),\n",
              " array([], dtype='<U34'),\n",
              " array([], dtype='<U34'),\n",
              " array([], dtype='<U34'),\n",
              " array([], dtype='<U34'),\n",
              " array([], dtype='<U34'),\n",
              " array([], dtype='<U34'),\n",
              " array([], dtype='<U34'),\n",
              " array([], dtype='<U34'),\n",
              " array([], dtype='<U34'),\n",
              " array([], dtype='<U34'),\n",
              " array([], dtype='<U34'),\n",
              " array([], dtype='<U34'),\n",
              " array([], dtype='<U34'),\n",
              " array([], dtype='<U34'),\n",
              " array([], dtype='<U34'),\n",
              " array([], dtype='<U34'),\n",
              " array([], dtype='<U34'),\n",
              " array([], dtype='<U34'),\n",
              " array([], dtype='<U34'),\n",
              " array([], dtype='<U34'),\n",
              " array([], dtype='<U34'),\n",
              " array([], dtype='<U34'),\n",
              " array([], dtype='<U34'),\n",
              " array([], dtype='<U34'),\n",
              " array([], dtype='<U34'),\n",
              " array([], dtype='<U34'),\n",
              " array([], dtype='<U34'),\n",
              " array([], dtype='<U34'),\n",
              " array([], dtype='<U34'),\n",
              " array([], dtype='<U34'),\n",
              " array([], dtype='<U34'),\n",
              " array([], dtype='<U34'),\n",
              " array([], dtype='<U34'),\n",
              " array([], dtype='<U34'),\n",
              " array([], dtype='<U34'),\n",
              " array([], dtype='<U34'),\n",
              " array([], dtype='<U34'),\n",
              " array([], dtype='<U34'),\n",
              " array([], dtype='<U34'),\n",
              " array([], dtype='<U34'),\n",
              " array([], dtype='<U34'),\n",
              " array([], dtype='<U34'),\n",
              " array([], dtype='<U34'),\n",
              " array([], dtype='<U34'),\n",
              " array([], dtype='<U34'),\n",
              " array([], dtype='<U34'),\n",
              " array([], dtype='<U34'),\n",
              " array([], dtype='<U34'),\n",
              " array([], dtype='<U34'),\n",
              " array([], dtype='<U34'),\n",
              " array([], dtype='<U34'),\n",
              " array([], dtype='<U34'),\n",
              " array([], dtype='<U34'),\n",
              " array([], dtype='<U34'),\n",
              " array([], dtype='<U34'),\n",
              " array([], dtype='<U34'),\n",
              " array([], dtype='<U34'),\n",
              " array([], dtype='<U34'),\n",
              " array([], dtype='<U34'),\n",
              " array([], dtype='<U34'),\n",
              " array([], dtype='<U34'),\n",
              " array([], dtype='<U34'),\n",
              " array([], dtype='<U34'),\n",
              " array([], dtype='<U34'),\n",
              " array([], dtype='<U34'),\n",
              " array([], dtype='<U34'),\n",
              " array([], dtype='<U34'),\n",
              " array([], dtype='<U34'),\n",
              " array([], dtype='<U34'),\n",
              " array([], dtype='<U34'),\n",
              " array([], dtype='<U34'),\n",
              " array([], dtype='<U34'),\n",
              " array([], dtype='<U34'),\n",
              " array([], dtype='<U34'),\n",
              " array([], dtype='<U34'),\n",
              " array([], dtype='<U34'),\n",
              " array([], dtype='<U34'),\n",
              " array([], dtype='<U34'),\n",
              " array([], dtype='<U34'),\n",
              " array([], dtype='<U34'),\n",
              " array([], dtype='<U34'),\n",
              " array([], dtype='<U34'),\n",
              " array([], dtype='<U34'),\n",
              " array([], dtype='<U34'),\n",
              " array([], dtype='<U34'),\n",
              " array([], dtype='<U34'),\n",
              " array([], dtype='<U34'),\n",
              " array([], dtype='<U34'),\n",
              " array([], dtype='<U34'),\n",
              " array([], dtype='<U34'),\n",
              " array([], dtype='<U34'),\n",
              " array([], dtype='<U34'),\n",
              " array([], dtype='<U34'),\n",
              " array([], dtype='<U34'),\n",
              " array([], dtype='<U34'),\n",
              " array([], dtype='<U34'),\n",
              " array([], dtype='<U34'),\n",
              " array([], dtype='<U34'),\n",
              " array([], dtype='<U34'),\n",
              " array([], dtype='<U34'),\n",
              " array([], dtype='<U34'),\n",
              " array([], dtype='<U34'),\n",
              " array([], dtype='<U34'),\n",
              " array([], dtype='<U34'),\n",
              " array([], dtype='<U34'),\n",
              " array([], dtype='<U34'),\n",
              " array([], dtype='<U34'),\n",
              " array([], dtype='<U34'),\n",
              " array([], dtype='<U34'),\n",
              " array([], dtype='<U34'),\n",
              " array([], dtype='<U34'),\n",
              " array([], dtype='<U34'),\n",
              " array([], dtype='<U34'),\n",
              " array([], dtype='<U34'),\n",
              " array([], dtype='<U34'),\n",
              " array([], dtype='<U34'),\n",
              " array([], dtype='<U34'),\n",
              " array([], dtype='<U34'),\n",
              " array([], dtype='<U34'),\n",
              " array(['aa'], dtype='<U34'),\n",
              " array([], dtype='<U34'),\n",
              " array([], dtype='<U34'),\n",
              " array([], dtype='<U34'),\n",
              " array([], dtype='<U34'),\n",
              " array([], dtype='<U34'),\n",
              " array([], dtype='<U34'),\n",
              " array([], dtype='<U34'),\n",
              " array([], dtype='<U34'),\n",
              " array([], dtype='<U34'),\n",
              " array([], dtype='<U34'),\n",
              " array([], dtype='<U34'),\n",
              " array([], dtype='<U34'),\n",
              " array([], dtype='<U34'),\n",
              " array([], dtype='<U34'),\n",
              " array([], dtype='<U34'),\n",
              " array([], dtype='<U34'),\n",
              " array([], dtype='<U34'),\n",
              " array([], dtype='<U34'),\n",
              " array([], dtype='<U34'),\n",
              " array([], dtype='<U34'),\n",
              " array([], dtype='<U34'),\n",
              " array([], dtype='<U34'),\n",
              " array([], dtype='<U34'),\n",
              " array([], dtype='<U34'),\n",
              " array([], dtype='<U34'),\n",
              " array([], dtype='<U34'),\n",
              " array([], dtype='<U34'),\n",
              " array([], dtype='<U34'),\n",
              " array([], dtype='<U34'),\n",
              " array([], dtype='<U34'),\n",
              " array([], dtype='<U34'),\n",
              " array([], dtype='<U34'),\n",
              " array([], dtype='<U34'),\n",
              " array([], dtype='<U34'),\n",
              " array([], dtype='<U34'),\n",
              " array([], dtype='<U34'),\n",
              " array([], dtype='<U34'),\n",
              " array([], dtype='<U34'),\n",
              " array([], dtype='<U34'),\n",
              " array([], dtype='<U34'),\n",
              " array([], dtype='<U34'),\n",
              " array([], dtype='<U34'),\n",
              " array([], dtype='<U34'),\n",
              " array([], dtype='<U34'),\n",
              " array([], dtype='<U34'),\n",
              " array([], dtype='<U34'),\n",
              " array([], dtype='<U34'),\n",
              " array([], dtype='<U34'),\n",
              " array([], dtype='<U34'),\n",
              " array([], dtype='<U34'),\n",
              " array([], dtype='<U34'),\n",
              " array([], dtype='<U34'),\n",
              " array([], dtype='<U34'),\n",
              " array([], dtype='<U34'),\n",
              " array([], dtype='<U34'),\n",
              " array([], dtype='<U34'),\n",
              " array([], dtype='<U34'),\n",
              " array([], dtype='<U34'),\n",
              " array([], dtype='<U34'),\n",
              " array([], dtype='<U34'),\n",
              " array([], dtype='<U34'),\n",
              " array([], dtype='<U34'),\n",
              " array([], dtype='<U34'),\n",
              " array([], dtype='<U34'),\n",
              " array([], dtype='<U34'),\n",
              " array([], dtype='<U34'),\n",
              " array([], dtype='<U34'),\n",
              " array([], dtype='<U34'),\n",
              " array([], dtype='<U34'),\n",
              " array([], dtype='<U34'),\n",
              " array([], dtype='<U34'),\n",
              " array([], dtype='<U34'),\n",
              " array([], dtype='<U34'),\n",
              " array([], dtype='<U34'),\n",
              " array([], dtype='<U34'),\n",
              " array([], dtype='<U34'),\n",
              " array([], dtype='<U34'),\n",
              " array([], dtype='<U34'),\n",
              " array([], dtype='<U34'),\n",
              " array([], dtype='<U34'),\n",
              " array([], dtype='<U34'),\n",
              " array([], dtype='<U34'),\n",
              " array([], dtype='<U34'),\n",
              " array([], dtype='<U34'),\n",
              " array([], dtype='<U34'),\n",
              " array([], dtype='<U34'),\n",
              " array([], dtype='<U34'),\n",
              " array([], dtype='<U34'),\n",
              " array([], dtype='<U34'),\n",
              " array([], dtype='<U34'),\n",
              " array([], dtype='<U34'),\n",
              " array([], dtype='<U34'),\n",
              " array([], dtype='<U34'),\n",
              " array([], dtype='<U34'),\n",
              " array([], dtype='<U34'),\n",
              " array([], dtype='<U34'),\n",
              " array([], dtype='<U34'),\n",
              " array([], dtype='<U34'),\n",
              " array([], dtype='<U34'),\n",
              " array([], dtype='<U34'),\n",
              " array([], dtype='<U34'),\n",
              " array([], dtype='<U34'),\n",
              " array([], dtype='<U34'),\n",
              " array([], dtype='<U34'),\n",
              " array([], dtype='<U34'),\n",
              " array([], dtype='<U34'),\n",
              " array([], dtype='<U34'),\n",
              " array([], dtype='<U34'),\n",
              " array([], dtype='<U34'),\n",
              " array([], dtype='<U34'),\n",
              " array([], dtype='<U34'),\n",
              " array([], dtype='<U34'),\n",
              " array([], dtype='<U34'),\n",
              " array([], dtype='<U34'),\n",
              " array([], dtype='<U34'),\n",
              " array([], dtype='<U34'),\n",
              " array([], dtype='<U34'),\n",
              " array([], dtype='<U34'),\n",
              " array([], dtype='<U34'),\n",
              " array([], dtype='<U34'),\n",
              " array([], dtype='<U34'),\n",
              " array([], dtype='<U34'),\n",
              " array([], dtype='<U34'),\n",
              " array([], dtype='<U34'),\n",
              " array([], dtype='<U34'),\n",
              " array([], dtype='<U34'),\n",
              " array([], dtype='<U34'),\n",
              " array([], dtype='<U34'),\n",
              " array([], dtype='<U34'),\n",
              " array([], dtype='<U34'),\n",
              " array([], dtype='<U34'),\n",
              " array([], dtype='<U34'),\n",
              " array([], dtype='<U34'),\n",
              " array([], dtype='<U34'),\n",
              " array([], dtype='<U34'),\n",
              " array([], dtype='<U34'),\n",
              " array([], dtype='<U34'),\n",
              " array([], dtype='<U34'),\n",
              " array([], dtype='<U34'),\n",
              " array([], dtype='<U34'),\n",
              " array([], dtype='<U34'),\n",
              " array([], dtype='<U34'),\n",
              " array([], dtype='<U34'),\n",
              " array([], dtype='<U34'),\n",
              " array([], dtype='<U34'),\n",
              " array([], dtype='<U34'),\n",
              " array([], dtype='<U34'),\n",
              " array([], dtype='<U34'),\n",
              " array([], dtype='<U34'),\n",
              " array([], dtype='<U34'),\n",
              " array([], dtype='<U34'),\n",
              " array([], dtype='<U34'),\n",
              " array([], dtype='<U34'),\n",
              " array([], dtype='<U34'),\n",
              " array([], dtype='<U34'),\n",
              " array([], dtype='<U34'),\n",
              " array([], dtype='<U34'),\n",
              " array([], dtype='<U34'),\n",
              " array([], dtype='<U34'),\n",
              " array([], dtype='<U34'),\n",
              " array([], dtype='<U34'),\n",
              " array([], dtype='<U34'),\n",
              " array([], dtype='<U34'),\n",
              " array([], dtype='<U34'),\n",
              " array([], dtype='<U34'),\n",
              " array([], dtype='<U34'),\n",
              " array([], dtype='<U34'),\n",
              " array([], dtype='<U34'),\n",
              " array([], dtype='<U34'),\n",
              " array([], dtype='<U34'),\n",
              " array([], dtype='<U34'),\n",
              " array([], dtype='<U34'),\n",
              " array([], dtype='<U34'),\n",
              " array([], dtype='<U34'),\n",
              " array([], dtype='<U34'),\n",
              " array([], dtype='<U34'),\n",
              " array([], dtype='<U34'),\n",
              " array([], dtype='<U34'),\n",
              " array([], dtype='<U34'),\n",
              " array([], dtype='<U34'),\n",
              " array([], dtype='<U34'),\n",
              " array([], dtype='<U34'),\n",
              " array([], dtype='<U34'),\n",
              " array([], dtype='<U34'),\n",
              " array([], dtype='<U34'),\n",
              " array([], dtype='<U34'),\n",
              " array([], dtype='<U34'),\n",
              " array([], dtype='<U34'),\n",
              " array([], dtype='<U34'),\n",
              " array([], dtype='<U34'),\n",
              " array([], dtype='<U34'),\n",
              " array([], dtype='<U34'),\n",
              " array([], dtype='<U34'),\n",
              " array([], dtype='<U34'),\n",
              " array([], dtype='<U34'),\n",
              " array([], dtype='<U34'),\n",
              " array([], dtype='<U34'),\n",
              " array([], dtype='<U34'),\n",
              " array([], dtype='<U34'),\n",
              " array([], dtype='<U34'),\n",
              " array([], dtype='<U34'),\n",
              " array([], dtype='<U34'),\n",
              " array([], dtype='<U34'),\n",
              " array([], dtype='<U34'),\n",
              " array([], dtype='<U34'),\n",
              " array([], dtype='<U34'),\n",
              " array([], dtype='<U34'),\n",
              " array([], dtype='<U34'),\n",
              " array([], dtype='<U34'),\n",
              " array([], dtype='<U34'),\n",
              " array([], dtype='<U34'),\n",
              " array([], dtype='<U34'),\n",
              " array([], dtype='<U34'),\n",
              " array([], dtype='<U34'),\n",
              " array([], dtype='<U34'),\n",
              " array([], dtype='<U34'),\n",
              " array([], dtype='<U34'),\n",
              " array([], dtype='<U34'),\n",
              " array([], dtype='<U34'),\n",
              " array([], dtype='<U34'),\n",
              " array([], dtype='<U34'),\n",
              " array([], dtype='<U34'),\n",
              " array([], dtype='<U34'),\n",
              " array([], dtype='<U34'),\n",
              " array([], dtype='<U34'),\n",
              " array([], dtype='<U34'),\n",
              " array([], dtype='<U34'),\n",
              " array([], dtype='<U34'),\n",
              " array([], dtype='<U34'),\n",
              " array([], dtype='<U34'),\n",
              " array([], dtype='<U34'),\n",
              " array([], dtype='<U34'),\n",
              " array([], dtype='<U34'),\n",
              " array([], dtype='<U34'),\n",
              " array([], dtype='<U34'),\n",
              " array([], dtype='<U34'),\n",
              " array([], dtype='<U34'),\n",
              " array([], dtype='<U34'),\n",
              " array([], dtype='<U34'),\n",
              " array([], dtype='<U34'),\n",
              " array([], dtype='<U34'),\n",
              " array([], dtype='<U34'),\n",
              " array([], dtype='<U34'),\n",
              " array([], dtype='<U34'),\n",
              " array([], dtype='<U34'),\n",
              " array([], dtype='<U34'),\n",
              " array([], dtype='<U34'),\n",
              " array([], dtype='<U34'),\n",
              " array([], dtype='<U34'),\n",
              " array([], dtype='<U34'),\n",
              " array([], dtype='<U34'),\n",
              " array([], dtype='<U34'),\n",
              " array([], dtype='<U34'),\n",
              " array([], dtype='<U34'),\n",
              " array([], dtype='<U34'),\n",
              " array([], dtype='<U34'),\n",
              " array([], dtype='<U34'),\n",
              " array([], dtype='<U34'),\n",
              " array([], dtype='<U34'),\n",
              " array([], dtype='<U34'),\n",
              " array([], dtype='<U34'),\n",
              " array([], dtype='<U34'),\n",
              " array([], dtype='<U34'),\n",
              " array([], dtype='<U34'),\n",
              " array([], dtype='<U34'),\n",
              " array([], dtype='<U34'),\n",
              " array([], dtype='<U34'),\n",
              " array([], dtype='<U34'),\n",
              " array([], dtype='<U34'),\n",
              " array([], dtype='<U34'),\n",
              " array([], dtype='<U34'),\n",
              " array([], dtype='<U34'),\n",
              " array([], dtype='<U34'),\n",
              " array([], dtype='<U34'),\n",
              " array([], dtype='<U34'),\n",
              " array([], dtype='<U34'),\n",
              " array([], dtype='<U34'),\n",
              " array([], dtype='<U34'),\n",
              " array([], dtype='<U34'),\n",
              " array([], dtype='<U34'),\n",
              " array([], dtype='<U34'),\n",
              " array([], dtype='<U34'),\n",
              " array([], dtype='<U34'),\n",
              " array([], dtype='<U34'),\n",
              " array([], dtype='<U34'),\n",
              " array([], dtype='<U34'),\n",
              " array([], dtype='<U34'),\n",
              " array([], dtype='<U34'),\n",
              " array([], dtype='<U34'),\n",
              " array([], dtype='<U34'),\n",
              " array([], dtype='<U34'),\n",
              " array([], dtype='<U34'),\n",
              " array([], dtype='<U34'),\n",
              " array([], dtype='<U34'),\n",
              " array([], dtype='<U34'),\n",
              " array([], dtype='<U34'),\n",
              " array([], dtype='<U34'),\n",
              " array([], dtype='<U34'),\n",
              " array([], dtype='<U34'),\n",
              " array([], dtype='<U34'),\n",
              " array([], dtype='<U34'),\n",
              " array([], dtype='<U34'),\n",
              " array([], dtype='<U34'),\n",
              " array([], dtype='<U34'),\n",
              " array([], dtype='<U34'),\n",
              " array([], dtype='<U34'),\n",
              " array([], dtype='<U34'),\n",
              " array([], dtype='<U34'),\n",
              " array([], dtype='<U34'),\n",
              " array([], dtype='<U34'),\n",
              " array([], dtype='<U34'),\n",
              " array([], dtype='<U34'),\n",
              " array([], dtype='<U34'),\n",
              " array([], dtype='<U34'),\n",
              " array([], dtype='<U34'),\n",
              " array([], dtype='<U34'),\n",
              " array([], dtype='<U34'),\n",
              " array([], dtype='<U34'),\n",
              " array([], dtype='<U34'),\n",
              " array([], dtype='<U34'),\n",
              " array([], dtype='<U34'),\n",
              " array([], dtype='<U34'),\n",
              " array([], dtype='<U34'),\n",
              " array([], dtype='<U34'),\n",
              " array([], dtype='<U34'),\n",
              " array([], dtype='<U34'),\n",
              " array([], dtype='<U34'),\n",
              " array([], dtype='<U34'),\n",
              " array([], dtype='<U34'),\n",
              " array([], dtype='<U34'),\n",
              " array([], dtype='<U34'),\n",
              " array([], dtype='<U34'),\n",
              " array([], dtype='<U34'),\n",
              " array([], dtype='<U34'),\n",
              " array([], dtype='<U34'),\n",
              " array([], dtype='<U34'),\n",
              " array([], dtype='<U34'),\n",
              " array([], dtype='<U34'),\n",
              " array([], dtype='<U34'),\n",
              " array([], dtype='<U34'),\n",
              " array([], dtype='<U34'),\n",
              " array([], dtype='<U34'),\n",
              " array([], dtype='<U34'),\n",
              " array([], dtype='<U34'),\n",
              " array([], dtype='<U34'),\n",
              " array([], dtype='<U34'),\n",
              " array([], dtype='<U34'),\n",
              " array([], dtype='<U34'),\n",
              " array([], dtype='<U34'),\n",
              " array([], dtype='<U34'),\n",
              " array([], dtype='<U34'),\n",
              " array([], dtype='<U34'),\n",
              " array([], dtype='<U34'),\n",
              " array([], dtype='<U34'),\n",
              " array([], dtype='<U34'),\n",
              " array([], dtype='<U34'),\n",
              " array(['aa'], dtype='<U34'),\n",
              " array([], dtype='<U34'),\n",
              " array(['aa'], dtype='<U34'),\n",
              " array([], dtype='<U34'),\n",
              " array([], dtype='<U34'),\n",
              " array([], dtype='<U34'),\n",
              " array([], dtype='<U34'),\n",
              " array([], dtype='<U34'),\n",
              " array([], dtype='<U34'),\n",
              " array([], dtype='<U34'),\n",
              " array([], dtype='<U34'),\n",
              " array([], dtype='<U34'),\n",
              " array([], dtype='<U34'),\n",
              " array([], dtype='<U34'),\n",
              " array([], dtype='<U34'),\n",
              " array([], dtype='<U34'),\n",
              " array([], dtype='<U34'),\n",
              " array([], dtype='<U34'),\n",
              " array([], dtype='<U34'),\n",
              " array([], dtype='<U34'),\n",
              " array([], dtype='<U34'),\n",
              " array([], dtype='<U34'),\n",
              " array([], dtype='<U34'),\n",
              " array([], dtype='<U34'),\n",
              " array([], dtype='<U34'),\n",
              " array([], dtype='<U34'),\n",
              " array([], dtype='<U34'),\n",
              " array([], dtype='<U34'),\n",
              " array([], dtype='<U34'),\n",
              " array([], dtype='<U34'),\n",
              " array([], dtype='<U34'),\n",
              " array([], dtype='<U34'),\n",
              " array([], dtype='<U34'),\n",
              " array([], dtype='<U34'),\n",
              " array([], dtype='<U34'),\n",
              " array([], dtype='<U34'),\n",
              " array([], dtype='<U34'),\n",
              " array([], dtype='<U34'),\n",
              " array([], dtype='<U34'),\n",
              " array([], dtype='<U34'),\n",
              " array([], dtype='<U34'),\n",
              " array([], dtype='<U34'),\n",
              " array([], dtype='<U34'),\n",
              " array([], dtype='<U34'),\n",
              " array([], dtype='<U34'),\n",
              " array([], dtype='<U34'),\n",
              " array([], dtype='<U34'),\n",
              " array([], dtype='<U34'),\n",
              " array([], dtype='<U34'),\n",
              " array([], dtype='<U34'),\n",
              " array([], dtype='<U34'),\n",
              " array([], dtype='<U34'),\n",
              " array([], dtype='<U34'),\n",
              " array([], dtype='<U34'),\n",
              " array([], dtype='<U34'),\n",
              " array([], dtype='<U34'),\n",
              " array([], dtype='<U34'),\n",
              " array([], dtype='<U34'),\n",
              " array([], dtype='<U34'),\n",
              " array([], dtype='<U34'),\n",
              " array([], dtype='<U34'),\n",
              " array([], dtype='<U34'),\n",
              " array([], dtype='<U34'),\n",
              " array([], dtype='<U34'),\n",
              " array([], dtype='<U34'),\n",
              " array([], dtype='<U34'),\n",
              " array([], dtype='<U34'),\n",
              " array([], dtype='<U34'),\n",
              " array([], dtype='<U34'),\n",
              " array([], dtype='<U34'),\n",
              " array([], dtype='<U34'),\n",
              " array([], dtype='<U34'),\n",
              " array([], dtype='<U34'),\n",
              " array([], dtype='<U34'),\n",
              " array([], dtype='<U34'),\n",
              " array([], dtype='<U34'),\n",
              " array([], dtype='<U34'),\n",
              " array([], dtype='<U34'),\n",
              " array([], dtype='<U34'),\n",
              " array([], dtype='<U34'),\n",
              " array([], dtype='<U34'),\n",
              " array([], dtype='<U34'),\n",
              " array([], dtype='<U34'),\n",
              " array([], dtype='<U34'),\n",
              " array([], dtype='<U34'),\n",
              " array([], dtype='<U34'),\n",
              " array([], dtype='<U34'),\n",
              " array([], dtype='<U34'),\n",
              " array([], dtype='<U34'),\n",
              " array([], dtype='<U34'),\n",
              " array([], dtype='<U34'),\n",
              " array([], dtype='<U34'),\n",
              " array([], dtype='<U34'),\n",
              " array([], dtype='<U34'),\n",
              " array([], dtype='<U34'),\n",
              " array([], dtype='<U34'),\n",
              " array([], dtype='<U34'),\n",
              " array([], dtype='<U34'),\n",
              " array([], dtype='<U34'),\n",
              " array([], dtype='<U34'),\n",
              " array([], dtype='<U34'),\n",
              " array([], dtype='<U34'),\n",
              " array([], dtype='<U34'),\n",
              " array([], dtype='<U34'),\n",
              " array([], dtype='<U34'),\n",
              " array([], dtype='<U34'),\n",
              " array([], dtype='<U34'),\n",
              " array([], dtype='<U34'),\n",
              " array([], dtype='<U34'),\n",
              " array([], dtype='<U34'),\n",
              " array([], dtype='<U34'),\n",
              " array([], dtype='<U34'),\n",
              " array([], dtype='<U34'),\n",
              " array([], dtype='<U34'),\n",
              " array([], dtype='<U34'),\n",
              " array([], dtype='<U34'),\n",
              " array([], dtype='<U34'),\n",
              " array([], dtype='<U34'),\n",
              " array([], dtype='<U34'),\n",
              " array([], dtype='<U34'),\n",
              " array([], dtype='<U34'),\n",
              " array([], dtype='<U34'),\n",
              " array([], dtype='<U34'),\n",
              " array([], dtype='<U34'),\n",
              " array([], dtype='<U34'),\n",
              " array([], dtype='<U34'),\n",
              " array([], dtype='<U34'),\n",
              " array([], dtype='<U34'),\n",
              " array([], dtype='<U34'),\n",
              " array([], dtype='<U34'),\n",
              " array([], dtype='<U34'),\n",
              " array([], dtype='<U34'),\n",
              " array([], dtype='<U34'),\n",
              " array([], dtype='<U34'),\n",
              " array([], dtype='<U34'),\n",
              " array([], dtype='<U34'),\n",
              " array([], dtype='<U34'),\n",
              " array([], dtype='<U34'),\n",
              " array([], dtype='<U34'),\n",
              " array([], dtype='<U34'),\n",
              " array([], dtype='<U34'),\n",
              " array([], dtype='<U34'),\n",
              " array([], dtype='<U34'),\n",
              " array([], dtype='<U34'),\n",
              " array([], dtype='<U34'),\n",
              " array([], dtype='<U34'),\n",
              " array([], dtype='<U34'),\n",
              " array([], dtype='<U34'),\n",
              " array([], dtype='<U34'),\n",
              " array([], dtype='<U34'),\n",
              " array([], dtype='<U34'),\n",
              " array([], dtype='<U34'),\n",
              " array([], dtype='<U34'),\n",
              " array([], dtype='<U34'),\n",
              " array([], dtype='<U34'),\n",
              " array([], dtype='<U34'),\n",
              " array([], dtype='<U34'),\n",
              " array([], dtype='<U34'),\n",
              " array([], dtype='<U34'),\n",
              " array([], dtype='<U34'),\n",
              " array([], dtype='<U34'),\n",
              " array([], dtype='<U34'),\n",
              " array([], dtype='<U34'),\n",
              " array([], dtype='<U34'),\n",
              " array([], dtype='<U34'),\n",
              " array([], dtype='<U34'),\n",
              " array([], dtype='<U34'),\n",
              " array([], dtype='<U34'),\n",
              " array([], dtype='<U34'),\n",
              " array([], dtype='<U34'),\n",
              " array([], dtype='<U34'),\n",
              " array([], dtype='<U34'),\n",
              " array([], dtype='<U34'),\n",
              " array([], dtype='<U34'),\n",
              " array([], dtype='<U34'),\n",
              " array([], dtype='<U34'),\n",
              " array([], dtype='<U34'),\n",
              " array([], dtype='<U34'),\n",
              " array([], dtype='<U34'),\n",
              " array([], dtype='<U34'),\n",
              " array([], dtype='<U34'),\n",
              " array([], dtype='<U34'),\n",
              " array([], dtype='<U34'),\n",
              " array([], dtype='<U34'),\n",
              " array([], dtype='<U34'),\n",
              " array([], dtype='<U34'),\n",
              " array([], dtype='<U34'),\n",
              " array([], dtype='<U34'),\n",
              " array([], dtype='<U34'),\n",
              " array([], dtype='<U34'),\n",
              " array([], dtype='<U34'),\n",
              " array([], dtype='<U34'),\n",
              " array([], dtype='<U34'),\n",
              " array([], dtype='<U34'),\n",
              " array([], dtype='<U34'),\n",
              " array([], dtype='<U34'),\n",
              " array([], dtype='<U34'),\n",
              " array([], dtype='<U34'),\n",
              " array([], dtype='<U34'),\n",
              " array([], dtype='<U34'),\n",
              " array([], dtype='<U34'),\n",
              " array([], dtype='<U34'),\n",
              " array([], dtype='<U34'),\n",
              " array([], dtype='<U34'),\n",
              " array([], dtype='<U34'),\n",
              " array([], dtype='<U34'),\n",
              " array([], dtype='<U34'),\n",
              " array([], dtype='<U34'),\n",
              " array([], dtype='<U34'),\n",
              " array([], dtype='<U34'),\n",
              " array([], dtype='<U34'),\n",
              " array([], dtype='<U34'),\n",
              " array([], dtype='<U34'),\n",
              " array([], dtype='<U34'),\n",
              " array([], dtype='<U34'),\n",
              " array([], dtype='<U34'),\n",
              " array([], dtype='<U34'),\n",
              " array([], dtype='<U34'),\n",
              " array([], dtype='<U34'),\n",
              " array([], dtype='<U34'),\n",
              " array([], dtype='<U34'),\n",
              " array([], dtype='<U34'),\n",
              " array([], dtype='<U34'),\n",
              " array([], dtype='<U34'),\n",
              " array([], dtype='<U34'),\n",
              " array([], dtype='<U34'),\n",
              " array([], dtype='<U34'),\n",
              " array([], dtype='<U34'),\n",
              " array(['aa'], dtype='<U34'),\n",
              " array([], dtype='<U34'),\n",
              " array([], dtype='<U34'),\n",
              " array([], dtype='<U34'),\n",
              " array([], dtype='<U34'),\n",
              " array([], dtype='<U34'),\n",
              " array([], dtype='<U34'),\n",
              " array([], dtype='<U34'),\n",
              " array([], dtype='<U34'),\n",
              " array([], dtype='<U34'),\n",
              " array([], dtype='<U34'),\n",
              " array([], dtype='<U34'),\n",
              " array([], dtype='<U34'),\n",
              " array([], dtype='<U34'),\n",
              " array([], dtype='<U34'),\n",
              " array([], dtype='<U34'),\n",
              " array([], dtype='<U34'),\n",
              " array([], dtype='<U34'),\n",
              " array([], dtype='<U34'),\n",
              " array([], dtype='<U34'),\n",
              " array([], dtype='<U34'),\n",
              " array([], dtype='<U34'),\n",
              " array([], dtype='<U34'),\n",
              " array([], dtype='<U34'),\n",
              " array([], dtype='<U34'),\n",
              " array([], dtype='<U34'),\n",
              " array([], dtype='<U34'),\n",
              " array([], dtype='<U34'),\n",
              " array([], dtype='<U34'),\n",
              " array([], dtype='<U34'),\n",
              " array([], dtype='<U34'),\n",
              " array([], dtype='<U34'),\n",
              " array([], dtype='<U34'),\n",
              " array([], dtype='<U34'),\n",
              " array([], dtype='<U34'),\n",
              " array([], dtype='<U34'),\n",
              " ...]"
            ]
          },
          "metadata": {},
          "execution_count": 35
        }
      ],
      "source": [
        "#cv.get_feature_names()\n",
        "cv.inverse_transform(X[0].reshape(-1,1))"
      ]
    },
    {
      "cell_type": "code",
      "execution_count": null,
      "metadata": {
        "id": "6PkDpgJXT3cJ",
        "colab": {
          "base_uri": "https://localhost:8080/"
        },
        "outputId": "bf62c180-3591-422e-a04e-d06740cd7c80"
      },
      "outputs": [
        {
          "output_type": "execute_result",
          "data": {
            "text/plain": [
              "(5572,)"
            ]
          },
          "metadata": {},
          "execution_count": 36
        }
      ],
      "source": [
        "y.shape"
      ]
    },
    {
      "cell_type": "code",
      "execution_count": null,
      "metadata": {
        "id": "WZOI7nHiT3cJ"
      },
      "outputs": [],
      "source": [
        "from sklearn.metrics import accuracy_score\n",
        "from sklearn.model_selection import train_test_split\n",
        "X_train, X_test, y_train, y_test = train_test_split(X, y, test_size = 0.30, random_state = 0)"
      ]
    },
    {
      "cell_type": "code",
      "execution_count": null,
      "metadata": {
        "id": "ooaA2SVsT3cJ"
      },
      "outputs": [],
      "source": [
        "#convert into int\n",
        "y_train = y_train.astype(\"int\")\n",
        "y_test = y_test.astype(\"int\")"
      ]
    },
    {
      "cell_type": "code",
      "execution_count": null,
      "metadata": {
        "id": "WcVZTRcoT3cK",
        "colab": {
          "base_uri": "https://localhost:8080/"
        },
        "outputId": "46682c3b-cc93-40bf-e289-78e9e77f59da"
      },
      "outputs": [
        {
          "output_type": "stream",
          "name": "stdout",
          "text": [
            "0.9748803827751196\n"
          ]
        }
      ],
      "source": [
        "#Naive bayes classifier with BernoulliNB\n",
        "from sklearn.naive_bayes import BernoulliNB\n",
        "classifier = BernoulliNB()\n",
        "classifier.fit(X_train,y_train)\n",
        "prediction = classifier.predict(X_test)\n",
        "print(accuracy_score(prediction,y_test))"
      ]
    },
    {
      "cell_type": "code",
      "execution_count": null,
      "metadata": {
        "id": "R-8bQkD9T3cK",
        "colab": {
          "base_uri": "https://localhost:8080/"
        },
        "outputId": "bf02fa29-2d03-448e-bcb5-a2e9381dd765"
      },
      "outputs": [
        {
          "output_type": "stream",
          "name": "stdout",
          "text": [
            "0.9796650717703349\n"
          ]
        }
      ],
      "source": [
        "#Naive bayes classifier with MultinomialNB\n",
        "from sklearn.naive_bayes import MultinomialNB\n",
        "model = MultinomialNB()\n",
        "model.fit(X_train,y_train)\n",
        "prediction = model.predict(X_test)\n",
        "print(accuracy_score(prediction,y_test))"
      ]
    },
    {
      "cell_type": "code",
      "execution_count": null,
      "metadata": {
        "id": "xlz638pLT3cK",
        "colab": {
          "base_uri": "https://localhost:8080/"
        },
        "outputId": "4f8460cc-7f14-4729-a0be-2a93b0b45d49"
      },
      "outputs": [
        {
          "output_type": "stream",
          "name": "stdout",
          "text": [
            "0.8642344497607656\n"
          ]
        }
      ],
      "source": [
        "#Naive bayes classifier with GaussianNB\n",
        "from sklearn.naive_bayes import GaussianNB\n",
        "model = GaussianNB()\n",
        "model.fit(X_train,y_train)\n",
        "pred = model.predict(X_test)\n",
        "print(accuracy_score(pred,y_test))"
      ]
    },
    {
      "cell_type": "code",
      "execution_count": null,
      "metadata": {
        "id": "_VDIGzheT3cK",
        "colab": {
          "base_uri": "https://localhost:8080/"
        },
        "outputId": "064858c4-c2d4-4cfd-e49c-ffa6cc1eabd2"
      },
      "outputs": [
        {
          "output_type": "stream",
          "name": "stdout",
          "text": [
            "0.9192583732057417\n"
          ]
        }
      ],
      "source": [
        "#KNN classifier with K=2\n",
        "from sklearn.neighbors import KNeighborsClassifier\n",
        "neigh = KNeighborsClassifier(n_jobs=-1)\n",
        "neigh.fit(X_train,y_train)\n",
        "prediction = neigh.predict(X_test)\n",
        "print(accuracy_score(prediction,y_test))"
      ]
    },
    {
      "cell_type": "markdown",
      "metadata": {
        "id": "cS6SQcSvT3cL"
      },
      "source": [
        "# Feature Extraction with TfidfVectorizer"
      ]
    },
    {
      "cell_type": "code",
      "execution_count": null,
      "metadata": {
        "id": "XRA0oBA_T3cL"
      },
      "outputs": [],
      "source": [
        "#convert into vector\n",
        "from sklearn.feature_extraction.text import TfidfVectorizer\n",
        "cv = TfidfVectorizer(min_df=2)\n",
        "X = cv.fit_transform(corpus).toarray()\n",
        "y = sms['Status']"
      ]
    },
    {
      "cell_type": "code",
      "execution_count": null,
      "metadata": {
        "id": "zcunqVK_T3cL"
      },
      "outputs": [],
      "source": [
        "from sklearn.metrics import accuracy_score\n",
        "from sklearn.model_selection import train_test_split\n",
        "X_train, X_test, y_train, y_test = train_test_split(X, y, test_size = 0.30, random_state = 0)"
      ]
    },
    {
      "cell_type": "code",
      "execution_count": null,
      "metadata": {
        "id": "mxjIS1Y2T3cM"
      },
      "outputs": [],
      "source": [
        "#convert into int\n",
        "y_train = y_train.astype(\"int\")\n",
        "y_test = y_test.astype(\"int\")"
      ]
    },
    {
      "cell_type": "code",
      "execution_count": null,
      "metadata": {
        "id": "BiGcW3g-T3cM",
        "colab": {
          "base_uri": "https://localhost:8080/"
        },
        "outputId": "f34ceead-1ffc-4aca-9455-4ced4484c8a1"
      },
      "outputs": [
        {
          "output_type": "stream",
          "name": "stdout",
          "text": [
            "0.9838516746411483\n"
          ]
        }
      ],
      "source": [
        "#Naive bayes classifier with BernoulliNB\n",
        "from sklearn.naive_bayes import BernoulliNB\n",
        "classifier = BernoulliNB()\n",
        "classifier.fit(X_train,y_train)\n",
        "prediction = classifier.predict(X_test)\n",
        "print(accuracy_score(prediction,y_test))"
      ]
    },
    {
      "cell_type": "code",
      "execution_count": null,
      "metadata": {
        "id": "zO94l0SlT3cM",
        "colab": {
          "base_uri": "https://localhost:8080/"
        },
        "outputId": "1f88943f-2220-4c85-f86d-f149e0108165"
      },
      "outputs": [
        {
          "output_type": "stream",
          "name": "stdout",
          "text": [
            "0.9168660287081339\n"
          ]
        }
      ],
      "source": [
        "#KNN classifier\n",
        "from sklearn.neighbors import KNeighborsClassifier\n",
        "neigh = KNeighborsClassifier()\n",
        "neigh.fit(X_train,y_train)\n",
        "prediction = neigh.predict(X_test)\n",
        "print(accuracy_score(prediction,y_test))"
      ]
    },
    {
      "cell_type": "code",
      "execution_count": null,
      "metadata": {
        "id": "CISSK6gLT3cM",
        "colab": {
          "base_uri": "https://localhost:8080/"
        },
        "outputId": "64e7f7e8-f56e-4ff2-c13f-4e5732458b11"
      },
      "outputs": [
        {
          "output_type": "stream",
          "name": "stdout",
          "text": [
            "0.8606459330143541\n"
          ]
        }
      ],
      "source": [
        "#Naive bayes classifier with GaussianNB\n",
        "from sklearn.naive_bayes import GaussianNB\n",
        "model = GaussianNB()\n",
        "model.fit(X_train,y_train)\n",
        "pred = model.predict(X_test)\n",
        "print(accuracy_score(pred,y_test))"
      ]
    },
    {
      "cell_type": "code",
      "execution_count": null,
      "metadata": {
        "id": "Cvz9ztEaT3cN"
      },
      "outputs": [],
      "source": [
        ""
      ]
    }
  ],
  "metadata": {
    "kernelspec": {
      "display_name": "Python [conda env:anaconda3]",
      "language": "python",
      "name": "conda-env-anaconda3-py"
    },
    "language_info": {
      "codemirror_mode": {
        "name": "ipython",
        "version": 3
      },
      "file_extension": ".py",
      "mimetype": "text/x-python",
      "name": "python",
      "nbconvert_exporter": "python",
      "pygments_lexer": "ipython3",
      "version": "3.5.4"
    },
    "colab": {
      "name": "Sms_Spam_Filteration.ipynb",
      "provenance": [],
      "collapsed_sections": []
    },
    "gpuClass": "standard"
  },
  "nbformat": 4,
  "nbformat_minor": 0
}